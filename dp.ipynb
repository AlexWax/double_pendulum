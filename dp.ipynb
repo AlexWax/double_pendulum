{
 "cells": [
  {
   "cell_type": "code",
   "execution_count": 1,
   "metadata": {},
   "outputs": [],
   "source": [
    "import numpy as np\n",
    "import matplotlib.pyplot as plt\n",
    "import seaborn as sns\n",
    "from ipycanvas import MultiCanvas, hold_canvas\n",
    "from time import sleep\n",
    "from threading import Thread\n",
    "from ipywidgets import interact, interactive, fixed, interact_manual\n",
    "import ipywidgets as widgets\n",
    "sns.set()\n",
    "#импортируем все необходимые библиотеки"
   ]
  },
  {
   "cell_type": "code",
   "execution_count": 2,
   "metadata": {},
   "outputs": [],
   "source": [
    "class Mayatnik (object): # класс Маятник, вычислительное ядро\n",
    "    G = 9.80665\n",
    "    def __init__ (self, l, m1, m2, tau=0.0001):\n",
    "        self.l = l\n",
    "        self.m1 = m1\n",
    "        self.m2 = m2\n",
    "        self.myu = m2 / m1\n",
    "        self.tau = tau\n",
    "    \n",
    "    def A1(self, Z):\n",
    "        alpha1 = Z[0]\n",
    "        alpha2 = Z[1]    \n",
    "        p1 = Z[2]\n",
    "        p2 = Z[3]\n",
    "        return (p1*p2*np.sin(alpha1 - alpha2)) / (\n",
    "                self.m1 * (self.l ** 2) * (1 + self.myu * (np.sin (alpha1 - alpha2) ** 2)))\n",
    "    \n",
    "    def A2(self, Z):\n",
    "        alpha1 = Z[0]\n",
    "        alpha2 = Z[1]    \n",
    "        p1 = Z[2]\n",
    "        p2 = Z[3]\n",
    "        return  ((p1*p1*self.myu - 2*p1*p2*self.myu*np.cos(alpha1 - alpha2) + p2*p2*(1+self.myu))*np.sin(2*(alpha1-alpha2))) / (\n",
    "                    2*self.m1*self.l*self.l * (1 + self.myu * np.sin(alpha1 - alpha2)**2)**2)\n",
    "    \n",
    "    def f1 (self, Z):\n",
    "        alpha1 = Z[0]\n",
    "        alpha2 = Z[1]    \n",
    "        p1 = Z[2]\n",
    "        p2 = Z[3]\n",
    "        return (p1 - p2 * np.cos(alpha1 - alpha2)) / (\n",
    "                self.m1* self.l*self.l * (1 + self.myu * (np.sin (alpha1 - alpha2) ** 2)))\n",
    "    \n",
    "    def f2 (self, Z):\n",
    "        alpha1 = Z[0]\n",
    "        alpha2 = Z[1]    \n",
    "        p1 = Z[2]\n",
    "        p2 = Z[3]\n",
    "        return (p2*(1+self.myu) - p1 * self.myu * np.cos(alpha1 - alpha2)) / (\n",
    "                self.m1* self.l*self.l * (1 + self.myu * (np.sin (alpha1 - alpha2) ** 2)))\n",
    "    \n",
    "    def f3 (self, Z):\n",
    "        alpha1 = Z[0]\n",
    "        alpha2 = Z[1]    \n",
    "        p1 = Z[2]\n",
    "        p2 = Z[3]\n",
    "        return -self.m1 * (1 + self.myu) * self.G * self.l * np.sin(alpha1) - self.A1(Z) + self.A2(Z)\n",
    "    \n",
    "    def f4 (self, Z):\n",
    "        alpha1 = Z[0]\n",
    "        alpha2 = Z[1]    \n",
    "        p1 = Z[2]\n",
    "        p2 = Z[3]\n",
    "        return - self.m1 * self.myu * self.G * self.l * np.sin(alpha2) + self.A1(Z) - self.A2(Z)\n",
    "    \n",
    "    def f (self, Z): # Вспомогательная функция f\n",
    "        res = np.array([self.f1(Z), self.f2(Z), self.f3(Z), self.f4(Z)])\n",
    "        return res\n",
    "    \n",
    "    def render(self, canvas, Z): # Отрисовка маятников\n",
    "        with hold_canvas(canvas):\n",
    "            alpha1 = Z[0] + np.pi/2\n",
    "            alpha2 = Z[1] + np.pi/2        \n",
    "            canvas.clear_rect(0, 0, 800, 600)\n",
    "            canvas.stroke_arc(400, 300, 10, 0, 2 * np.pi)\n",
    "            x1 = np.cos(alpha1) * 100 + 400\n",
    "            y1 = np.sin(alpha1) * 100 + 300\n",
    "            x2 = np.cos(alpha2) * 100 + x1\n",
    "            y2 = np.sin(alpha2) * 100 + y1\n",
    "            canvas.stroke_arc(x1, y1, 10, 0, 2 * np.pi)\n",
    "            canvas.stroke_arc(x2, y2, 10, 0, 2 * np.pi)\n",
    "    \n",
    "    def dots(self, canvas, Z): # отрисовка следов перемещения маятников\n",
    "        with hold_canvas(canvas):\n",
    "            alpha1 = Z[0] + np.pi/2\n",
    "            alpha2 = Z[1] + np.pi/2\n",
    "            x1 = np.cos(alpha1) * 100 + 400\n",
    "            y1 = np.sin(alpha1) * 100 + 300\n",
    "            x2 = np.cos(alpha2) * 100 + x1\n",
    "            y2 = np.sin(alpha2) * 100 + y1\n",
    "            canvas.fill_style = 'green'\n",
    "            canvas.fill_arc(x2, y2, 2, 0, 2* np.pi)\n",
    "            canvas.fill_style = 'red'\n",
    "            canvas.fill_arc(x1, y1, 2, 0, 2* np.pi)\n",
    "        \n",
    "    \n",
    "    def next_Z (self, Z): # Генерация следующих параметров системы методом Рунге-Кутты\n",
    "        Y1 = self.tau * self.f(Z)\n",
    "        Y2 = self.tau * self.f(Z + Y1/2)\n",
    "        Y3 = self.tau * self.f(Z + Y2/2)\n",
    "        Y4 = self.tau * self.f(Z + Y3)\n",
    "        new_Z = Z + (Y1 + 2*Y2 + 2*Y3 + Y4) / 6\n",
    "        return new_Z"
   ]
  },
  {
   "cell_type": "code",
   "execution_count": 3,
   "metadata": {},
   "outputs": [],
   "source": [
    "class DrawMayatnik(Thread): #отрисовка маятника в отдельном потоке\n",
    "    stop_this = False\n",
    "    def __init__ (self, may, mc, v):\n",
    "        self.mayatnik = may\n",
    "        self.mcanvas = mc\n",
    "        self.vals = v\n",
    "        super(DrawMayatnik, self).__init__()\n",
    "        \n",
    "    def run(self):\n",
    "        self.mcanvas[0].clear_rect(0, 0, 800, 600)\n",
    "        self.mcanvas[1].clear_rect(0, 0, 800, 600)\n",
    "        for i in self.vals[:, 1]:\n",
    "            if self.stop_this:\n",
    "                break\n",
    "            self.mayatnik.render(self.mcanvas[0], i)\n",
    "            self.mayatnik.dots(self.mcanvas[1], i)\n",
    "            sleep(0.001)"
   ]
  },
  {
   "cell_type": "code",
   "execution_count": 4,
   "metadata": {},
   "outputs": [
    {
     "data": {
      "application/vnd.jupyter.widget-view+json": {
       "model_id": "2797512611b44376bcbf263c03ebcbce",
       "version_major": 2,
       "version_minor": 0
      },
      "text/plain": [
       "MultiCanvas(height=600, width=800)"
      ]
     },
     "metadata": {},
     "output_type": "display_data"
    }
   ],
   "source": [
    "multi_canvas = MultiCanvas(2, width=800, height=600) #Создаем канвас\n",
    "canvas = multi_canvas[0]\n",
    "dots = multi_canvas[1]\n",
    "multi_canvas"
   ]
  },
  {
   "cell_type": "code",
   "execution_count": 5,
   "metadata": {},
   "outputs": [
    {
     "data": {
      "application/vnd.jupyter.widget-view+json": {
       "model_id": "0bb9f879da28437a8988bdefe49182ff",
       "version_major": 2,
       "version_minor": 0
      },
      "text/plain": [
       "interactive(children=(FloatSlider(value=1.0, description='m1', max=2.0, step=0.01), FloatSlider(value=2.0, des…"
      ]
     },
     "metadata": {},
     "output_type": "display_data"
    }
   ],
   "source": [
    "dm = None\n",
    "@interact(m1=widgets.FloatSlider(min=0, max=2, step=0.01, value=1), \n",
    "          m2=widgets.FloatSlider(min=0, max=2, step=0.01, value=2), \n",
    "          tau=widgets.FloatSlider(min=0.001, max=0.1, step=0.001, value=0.001)) #Интерфейс для программы\n",
    "def run (m1, m2, tau, l=1):\n",
    "    global dm\n",
    "    if dm != None:\n",
    "        dm.stop_this = True\n",
    "    #generate data\n",
    "    mayatnik = Mayatnik(l, m1, m2, tau)\n",
    "    Z = np.array([1.72, 1.72, 0, 0])\n",
    "    vals = np.array([[0, Z]])\n",
    "    for i in range(10000):\n",
    "        Z = mayatnik.next_Z(Z)\n",
    "        vals = np.append(vals, [[i+1, Z]], axis=0)\n",
    "    \n",
    "    #Show plot\n",
    "    x = vals[:, 0]\n",
    "    y = np.array([a[0] for a in vals[:, 1]])\n",
    "    y1 = np.array([a[1] for a in vals[:, 1]])\n",
    "    y2 = np.array([a[2] for a in vals[:, 1]])\n",
    "    y3 = np.array([a[3] for a in vals[:, 1]])\n",
    "    plt.plot(x, y)\n",
    "    plt.plot(x, y1)\n",
    "    plt.plot(x, y2)\n",
    "    plt.plot(x, y3)\n",
    "    plt.show()\n",
    "    dm = DrawMayatnik(mayatnik, multi_canvas, vals)\n",
    "    dm.start()"
   ]
  }
 ],
 "metadata": {
  "kernelspec": {
   "display_name": "Python 3",
   "language": "python",
   "name": "python3"
  },
  "language_info": {
   "codemirror_mode": {
    "name": "ipython",
    "version": 3
   },
   "file_extension": ".py",
   "mimetype": "text/x-python",
   "name": "python",
   "nbconvert_exporter": "python",
   "pygments_lexer": "ipython3",
   "version": "3.7.6"
  }
 },
 "nbformat": 4,
 "nbformat_minor": 4
}
